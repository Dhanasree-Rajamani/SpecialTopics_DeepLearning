{
  "nbformat": 4,
  "nbformat_minor": 0,
  "metadata": {
    "colab": {
      "provenance": [],
      "gpuType": "T4",
      "authorship_tag": "ABX9TyNuq/1evEwxkJcsjIrKvcCi",
      "include_colab_link": true
    },
    "kernelspec": {
      "name": "python3",
      "display_name": "Python 3"
    },
    "language_info": {
      "name": "python"
    },
    "accelerator": "GPU"
  },
  "cells": [
    {
      "cell_type": "markdown",
      "metadata": {
        "id": "view-in-github",
        "colab_type": "text"
      },
      "source": [
        "<a href=\"https://colab.research.google.com/github/Dhanasree-Rajamani/SpecialTopics_DeepLearning/blob/main/Assignment%203/297_Pytorch_text_generation.ipynb\" target=\"_parent\"><img src=\"https://colab.research.google.com/assets/colab-badge.svg\" alt=\"Open In Colab\"/></a>"
      ]
    },
    {
      "cell_type": "markdown",
      "source": [
        "Import statements"
      ],
      "metadata": {
        "id": "3is-Yhsr23U9"
      }
    },
    {
      "cell_type": "code",
      "execution_count": null,
      "metadata": {
        "id": "PkAA4eb22yzC"
      },
      "outputs": [],
      "source": [
        "import torch\n",
        "import torch.nn as nn\n",
        "from torch.nn import functional as F"
      ]
    },
    {
      "cell_type": "markdown",
      "source": [
        "Hyperparameters\n",
        "\n",
        "Defining hyperparameters like batch size, block size, learning rate, etc., that will govern the training and model architecture."
      ],
      "metadata": {
        "id": "A86SqXoC28Q3"
      }
    },
    {
      "cell_type": "code",
      "source": [
        "# hyperparameters\n",
        "batch_size = 16 # how many independent sequences will we process in parallel?\n",
        "block_size = 32 # what is the maximum context length for predictions?\n",
        "max_iters = 5000\n",
        "eval_interval = 100\n",
        "learning_rate = 1e-3\n",
        "device = 'cuda' if torch.cuda.is_available() else 'cpu'\n",
        "eval_iters = 200\n",
        "n_embd = 64\n",
        "n_head = 4\n",
        "n_layer = 4\n",
        "dropout = 0.0\n",
        "torch.manual_seed(1337)"
      ],
      "metadata": {
        "colab": {
          "base_uri": "https://localhost:8080/"
        },
        "id": "kkNRhfDv27mA",
        "outputId": "23022458-8a01-47d2-f892-abee3d12753b"
      },
      "execution_count": null,
      "outputs": [
        {
          "output_type": "execute_result",
          "data": {
            "text/plain": [
              "<torch._C.Generator at 0x7ac9dea4bb10>"
            ]
          },
          "metadata": {},
          "execution_count": 5
        }
      ]
    },
    {
      "cell_type": "markdown",
      "source": [
        "Load Data, create vocabulary\n",
        "\n",
        "Encoder and Decoder\n",
        "\n",
        "Loading text data, which is assumed to be a set of poems from the file 'poems_dataset.txt'.\n",
        "This is not shakespere dataset, this is another custom dataset which consists of different poems of various genre"
      ],
      "metadata": {
        "id": "ZUenvS-N3GzC"
      }
    },
    {
      "cell_type": "code",
      "source": [
        "# wget https://raw.githubusercontent.com/karpathy/char-rnn/master/data/tinyshakespeare/input.txt\n",
        "with open('/content/poems_dataset.txt', 'r', encoding='utf-8') as f:\n",
        "    text = f.read()\n",
        "\n",
        "# here are all the unique characters that occur in this text\n",
        "chars = sorted(list(set(text)))\n",
        "vocab_size = len(chars)\n",
        "# create a mapping from characters to integers\n",
        "stoi = { ch:i for i,ch in enumerate(chars) }\n",
        "itos = { i:ch for i,ch in enumerate(chars) }\n",
        "\n",
        "encode = lambda s: [stoi[c] for c in s] # encoder: take a string, output a list of integers\n",
        "decode = lambda l: ''.join([itos[i] for i in l]) # decoder: take a list of integers, output a string"
      ],
      "metadata": {
        "id": "73QRG9_v3QRQ"
      },
      "execution_count": null,
      "outputs": []
    },
    {
      "cell_type": "markdown",
      "source": [
        "Train-test split"
      ],
      "metadata": {
        "id": "uwINrQXi3fam"
      }
    },
    {
      "cell_type": "code",
      "source": [
        "# Train and test splits\n",
        "data = torch.tensor(encode(text), dtype=torch.long)\n",
        "n = int(0.9*len(data)) # first 90% will be train, rest val\n",
        "train_data = data[:n]\n",
        "val_data = data[n:]"
      ],
      "metadata": {
        "id": "sDMUpyG23rsk"
      },
      "execution_count": null,
      "outputs": []
    },
    {
      "cell_type": "markdown",
      "source": [
        "Batch data generator\n",
        "\n",
        "The function get_batch generates a small batch of data for training or validation."
      ],
      "metadata": {
        "id": "nvq_XPwx3soJ"
      }
    },
    {
      "cell_type": "code",
      "source": [
        "# data loading\n",
        "def get_batch(split):\n",
        "    # generate a small batch of data of inputs x and targets y\n",
        "    data = train_data if split == 'train' else val_data\n",
        "    ix = torch.randint(len(data) - block_size, (batch_size,))\n",
        "    x = torch.stack([data[i:i+block_size] for i in ix])\n",
        "    y = torch.stack([data[i+1:i+block_size+1] for i in ix])\n",
        "    x, y = x.to(device), y.to(device)\n",
        "    return x, y\n"
      ],
      "metadata": {
        "id": "P47xanG73zno"
      },
      "execution_count": null,
      "outputs": []
    },
    {
      "cell_type": "markdown",
      "source": [
        "Estimate Loss\n",
        "\n",
        "This function evaluates the model's performance over a number of iterations and returns average losses for training and validation sets."
      ],
      "metadata": {
        "id": "4zNqe2db30Zg"
      }
    },
    {
      "cell_type": "code",
      "source": [
        "@torch.no_grad()\n",
        "def estimate_loss():\n",
        "    out = {}\n",
        "    model.eval()\n",
        "    for split in ['train', 'val']:\n",
        "        losses = torch.zeros(eval_iters)\n",
        "        for k in range(eval_iters):\n",
        "            X, Y = get_batch(split)\n",
        "            logits, loss = model(X, Y)\n",
        "            losses[k] = loss.item()\n",
        "        out[split] = losses.mean()\n",
        "    model.train()\n",
        "    return out"
      ],
      "metadata": {
        "id": "E3jCSz2a3-SO"
      },
      "execution_count": null,
      "outputs": []
    },
    {
      "cell_type": "markdown",
      "source": [
        "Transformer components\n",
        "\n",
        "Several helper classes (Head, MultiHeadAttention, FeedFoward, and Block) define the different parts of the Transformer architecture."
      ],
      "metadata": {
        "id": "vYzQWfS84Ahf"
      }
    },
    {
      "cell_type": "code",
      "source": [
        "class Head(nn.Module):\n",
        "    \"\"\" one head of self-attention \"\"\"\n",
        "\n",
        "    def __init__(self, head_size):\n",
        "        super().__init__()\n",
        "        self.key = nn.Linear(n_embd, head_size, bias=False)\n",
        "        self.query = nn.Linear(n_embd, head_size, bias=False)\n",
        "        self.value = nn.Linear(n_embd, head_size, bias=False)\n",
        "        self.register_buffer('tril', torch.tril(torch.ones(block_size, block_size)))\n",
        "\n",
        "        self.dropout = nn.Dropout(dropout)\n",
        "\n",
        "    def forward(self, x):\n",
        "        B,T,C = x.shape\n",
        "        k = self.key(x)   # (B,T,C)\n",
        "        q = self.query(x) # (B,T,C)\n",
        "        # compute attention scores (\"affinities\")\n",
        "        wei = q @ k.transpose(-2,-1) * C**-0.5 # (B, T, C) @ (B, C, T) -> (B, T, T)\n",
        "        wei = wei.masked_fill(self.tril[:T, :T] == 0, float('-inf')) # (B, T, T)\n",
        "        wei = F.softmax(wei, dim=-1) # (B, T, T)\n",
        "        wei = self.dropout(wei)\n",
        "        # perform the weighted aggregation of the values\n",
        "        v = self.value(x) # (B,T,C)\n",
        "        out = wei @ v # (B, T, T) @ (B, T, C) -> (B, T, C)\n",
        "        return out\n",
        "\n",
        "class MultiHeadAttention(nn.Module):\n",
        "    \"\"\" multiple heads of self-attention in parallel \"\"\"\n",
        "\n",
        "    def __init__(self, num_heads, head_size):\n",
        "        super().__init__()\n",
        "        self.heads = nn.ModuleList([Head(head_size) for _ in range(num_heads)])\n",
        "        self.proj = nn.Linear(n_embd, n_embd)\n",
        "        self.dropout = nn.Dropout(dropout)\n",
        "\n",
        "    def forward(self, x):\n",
        "        out = torch.cat([h(x) for h in self.heads], dim=-1)\n",
        "        out = self.dropout(self.proj(out))\n",
        "        return out\n",
        "\n",
        "class FeedFoward(nn.Module):\n",
        "    \"\"\" a simple linear layer followed by a non-linearity \"\"\"\n",
        "\n",
        "    def __init__(self, n_embd):\n",
        "        super().__init__()\n",
        "        self.net = nn.Sequential(\n",
        "            nn.Linear(n_embd, 4 * n_embd),\n",
        "            nn.ReLU(),\n",
        "            nn.Linear(4 * n_embd, n_embd),\n",
        "            nn.Dropout(dropout),\n",
        "        )\n",
        "\n",
        "    def forward(self, x):\n",
        "        return self.net(x)\n",
        "\n",
        "class Block(nn.Module):\n",
        "    \"\"\" Transformer block: communication followed by computation \"\"\"\n",
        "\n",
        "    def __init__(self, n_embd, n_head):\n",
        "        # n_embd: embedding dimension, n_head: the number of heads we'd like\n",
        "        super().__init__()\n",
        "        head_size = n_embd // n_head\n",
        "        self.sa = MultiHeadAttention(n_head, head_size)\n",
        "        self.ffwd = FeedFoward(n_embd)\n",
        "        self.ln1 = nn.LayerNorm(n_embd)\n",
        "        self.ln2 = nn.LayerNorm(n_embd)\n",
        "\n",
        "    def forward(self, x):\n",
        "        x = x + self.sa(self.ln1(x))\n",
        "        x = x + self.ffwd(self.ln2(x))\n",
        "        return x\n"
      ],
      "metadata": {
        "id": "MZJPk3c24Lbo"
      },
      "execution_count": null,
      "outputs": []
    },
    {
      "cell_type": "markdown",
      "source": [
        "Model Definition\n",
        "\n",
        "The BigramLanguageModel is the main model class. It consists of a token embedding layer, position embedding, multiple Transformer blocks, and a linear layer (lm_head) for predictions."
      ],
      "metadata": {
        "id": "bEEksaD04TNY"
      }
    },
    {
      "cell_type": "code",
      "source": [
        "# super simple bigram model\n",
        "class BigramLanguageModel(nn.Module):\n",
        "\n",
        "    def __init__(self):\n",
        "        super().__init__()\n",
        "        # each token directly reads off the logits for the next token from a lookup table\n",
        "        self.token_embedding_table = nn.Embedding(vocab_size, n_embd)\n",
        "        self.position_embedding_table = nn.Embedding(block_size, n_embd)\n",
        "        self.blocks = nn.Sequential(*[Block(n_embd, n_head=n_head) for _ in range(n_layer)])\n",
        "        self.ln_f = nn.LayerNorm(n_embd) # final layer norm\n",
        "        self.lm_head = nn.Linear(n_embd, vocab_size)\n",
        "\n",
        "    def forward(self, idx, targets=None):\n",
        "        B, T = idx.shape\n",
        "\n",
        "        # idx and targets are both (B,T) tensor of integers\n",
        "        tok_emb = self.token_embedding_table(idx) # (B,T,C)\n",
        "        pos_emb = self.position_embedding_table(torch.arange(T, device=device)) # (T,C)\n",
        "        x = tok_emb + pos_emb # (B,T,C)\n",
        "        x = self.blocks(x) # (B,T,C)\n",
        "        x = self.ln_f(x) # (B,T,C)\n",
        "        logits = self.lm_head(x) # (B,T,vocab_size)\n",
        "\n",
        "        if targets is None:\n",
        "            loss = None\n",
        "        else:\n",
        "            B, T, C = logits.shape\n",
        "            logits = logits.view(B*T, C)\n",
        "            targets = targets.view(B*T)\n",
        "            loss = F.cross_entropy(logits, targets)\n",
        "\n",
        "        return logits, loss\n",
        "\n",
        "    def generate(self, idx, max_new_tokens):\n",
        "        # idx is (B, T) array of indices in the current context\n",
        "        for _ in range(max_new_tokens):\n",
        "            # crop idx to the last block_size tokens\n",
        "            idx_cond = idx[:, -block_size:]\n",
        "            # get the predictions\n",
        "            logits, loss = self(idx_cond)\n",
        "            # focus only on the last time step\n",
        "            logits = logits[:, -1, :] # becomes (B, C)\n",
        "            # apply softmax to get probabilities\n",
        "            probs = F.softmax(logits, dim=-1) # (B, C)\n",
        "            # sample from the distribution\n",
        "            idx_next = torch.multinomial(probs, num_samples=1) # (B, 1)\n",
        "            # append sampled index to the running sequence\n",
        "            idx = torch.cat((idx, idx_next), dim=1) # (B, T+1)\n",
        "        return idx"
      ],
      "metadata": {
        "id": "GjL0y3Zp4Rwo"
      },
      "execution_count": null,
      "outputs": []
    },
    {
      "cell_type": "markdown",
      "source": [
        "Model Initialization and Training\n",
        "\n",
        "The model is instantiated, moved to a GPU if available, and trained using the AdamW optimizer."
      ],
      "metadata": {
        "id": "pj1mYEsR4Y7G"
      }
    },
    {
      "cell_type": "code",
      "source": [
        "model = BigramLanguageModel()\n",
        "m = model.to(device)\n",
        "# print the number of parameters in the model\n",
        "print(sum(p.numel() for p in m.parameters())/1e6, 'M parameters')\n",
        "\n",
        "# create a PyTorch optimizer\n",
        "optimizer = torch.optim.AdamW(model.parameters(), lr=learning_rate)\n",
        "\n",
        "for iter in range(max_iters):\n",
        "\n",
        "    # every once in a while evaluate the loss on train and val sets\n",
        "    if iter % eval_interval == 0 or iter == max_iters - 1:\n",
        "        losses = estimate_loss()\n",
        "        print(f\"step {iter}: train loss {losses['train']:.4f}, val loss {losses['val']:.4f}\")\n",
        "\n",
        "    # sample a batch of data\n",
        "    xb, yb = get_batch('train')\n",
        "\n",
        "    # evaluate the loss\n",
        "    logits, loss = model(xb, yb)\n",
        "    optimizer.zero_grad(set_to_none=True)\n",
        "    loss.backward()\n",
        "    optimizer.step()\n"
      ],
      "metadata": {
        "colab": {
          "base_uri": "https://localhost:8080/"
        },
        "id": "h7CYFE_y4g28",
        "outputId": "d6dbdae2-6198-45a7-8788-4c7658477e38"
      },
      "execution_count": null,
      "outputs": [
        {
          "output_type": "stream",
          "name": "stdout",
          "text": [
            "0.211277 M parameters\n",
            "step 0: train loss 4.5418, val loss 4.5445\n",
            "step 100: train loss 2.5777, val loss 2.6137\n",
            "step 200: train loss 2.4446, val loss 2.4946\n",
            "step 300: train loss 2.3710, val loss 2.4182\n",
            "step 400: train loss 2.2922, val loss 2.3427\n",
            "step 500: train loss 2.2533, val loss 2.2988\n",
            "step 600: train loss 2.1942, val loss 2.2505\n",
            "step 700: train loss 2.1483, val loss 2.2189\n",
            "step 800: train loss 2.1026, val loss 2.1867\n",
            "step 900: train loss 2.0633, val loss 2.1508\n",
            "step 1000: train loss 2.0210, val loss 2.1285\n",
            "step 1100: train loss 1.9749, val loss 2.0841\n",
            "step 1200: train loss 1.9677, val loss 2.0881\n",
            "step 1300: train loss 1.9428, val loss 2.0479\n",
            "step 1400: train loss 1.9141, val loss 2.0435\n",
            "step 1500: train loss 1.8870, val loss 2.0109\n",
            "step 1600: train loss 1.8738, val loss 2.0009\n",
            "step 1700: train loss 1.8521, val loss 1.9843\n",
            "step 1800: train loss 1.8375, val loss 1.9833\n",
            "step 1900: train loss 1.8174, val loss 1.9794\n",
            "step 2000: train loss 1.8052, val loss 1.9745\n",
            "step 2100: train loss 1.7959, val loss 1.9640\n",
            "step 2200: train loss 1.7758, val loss 1.9632\n",
            "step 2300: train loss 1.7610, val loss 1.9497\n",
            "step 2400: train loss 1.7515, val loss 1.9391\n",
            "step 2500: train loss 1.7246, val loss 1.9348\n",
            "step 2600: train loss 1.7168, val loss 1.9352\n",
            "step 2700: train loss 1.6977, val loss 1.9391\n",
            "step 2800: train loss 1.6943, val loss 1.9531\n",
            "step 2900: train loss 1.6759, val loss 1.9222\n",
            "step 3000: train loss 1.6690, val loss 1.9424\n",
            "step 3100: train loss 1.6703, val loss 1.9479\n",
            "step 3200: train loss 1.6471, val loss 1.9083\n",
            "step 3300: train loss 1.6304, val loss 1.9212\n",
            "step 3400: train loss 1.6355, val loss 1.9236\n",
            "step 3500: train loss 1.6154, val loss 1.9359\n",
            "step 3600: train loss 1.6066, val loss 1.9050\n",
            "step 3700: train loss 1.5925, val loss 1.9068\n",
            "step 3800: train loss 1.5812, val loss 1.9102\n",
            "step 3900: train loss 1.5698, val loss 1.8942\n",
            "step 4000: train loss 1.5605, val loss 1.9138\n",
            "step 4100: train loss 1.5503, val loss 1.9197\n",
            "step 4200: train loss 1.5448, val loss 1.9144\n",
            "step 4300: train loss 1.5303, val loss 1.9224\n",
            "step 4400: train loss 1.5328, val loss 1.8950\n",
            "step 4500: train loss 1.5154, val loss 1.9137\n",
            "step 4600: train loss 1.5132, val loss 1.9330\n",
            "step 4700: train loss 1.4995, val loss 1.9264\n",
            "step 4800: train loss 1.4836, val loss 1.9226\n",
            "step 4900: train loss 1.4748, val loss 1.9215\n",
            "step 4999: train loss 1.4776, val loss 1.9283\n"
          ]
        }
      ]
    },
    {
      "cell_type": "markdown",
      "source": [
        "Text Generation\n",
        "\n",
        "After training, a context is provided (initialized to zeros) and the model generates new text based on this context."
      ],
      "metadata": {
        "id": "3Oy1-ayf4h3v"
      }
    },
    {
      "cell_type": "code",
      "source": [
        "# generate from the model\n",
        "context = torch.zeros((1, 1), dtype=torch.long, device=device)\n",
        "print(decode(m.generate(context, max_new_tokens=2000)[0].tolist()))"
      ],
      "metadata": {
        "colab": {
          "base_uri": "https://localhost:8080/"
        },
        "id": "9WwiYElM4oHu",
        "outputId": "5b16117c-6ae3-428c-d422-9cc98d10f277"
      },
      "execution_count": null,
      "outputs": [
        {
          "output_type": "stream",
          "name": "stdout",
          "text": [
            "\n",
            "By the gives hose by a good ot\n",
            "At not them as whirch,. Rest that\n",
            "Long weeds to me. He poon allow it oused\n",
            "On flying just things know, paber's my friend,\n",
            "And seacheds and till how Give:\n",
            "When them tread the charf of at he tell happes,\n",
            "And shaultious leaved sput I remember by atter hoof\n",
            "My hose hills ghakeV, or star and got with betwext to doth.\n",
            "\n",
            "Thou, chart in\n",
            "Wit thing'n be bellen sizarsizer that be two sprent\n",
            "Deaven thinknes, to my thy 'mouther's from and his bed to good,\n",
            "Or vent somed up by My greatess gone.'\n",
            "\n",
            "There's you amigon's was one, a time's you shoulds,\n",
            "And three the rises, that with the reaves.\n",
            "Cut stoon my eye?'I haves for one and sylvarky.\n",
            "I was thou\n",
            "\n",
            "When I glades one to we made.\n",
            "\n",
            "Now vergit, not come rogettist staren\n",
            "That asintic far plowed, so where revers in the sended holdid\n",
            "And Moved we to runter of Her cottives green.\n",
            "They riefull;\n",
            "Annythingth by equartly jerest from loteling to to make. Se too that.Deft she it lanced Now,\n",
            "And this not 'serever pace by the hath courasome fair-\n",
            "Is so beless ProGQjuttives Len with a way not book\n",
            "At if these I cottre\n",
            "That is so is for graves,\n",
            "Rearen was streets in by sport, the houng road\n",
            "A sylarHed in that was shore before\n",
            "A becalmed their he bounds shatter bsing east listeness to earther for tubsed of this Man,\n",
            "Oh, othern't knew, as if them trovellening that you this Fewhere found the be pleaseds in my urst.\n",
            "And thought?--There've happy seed\n",
            "To be the show is trail\n",
            "Plasure in star\n",
            "And it flying voezer's meant beasts that safelf of benefored.\n",
            "I whellsy sometone:-butwo were not woods\n",
            "But I like a blody tooks\n",
            "The mountain ar the warmer their Knough\n",
            "Intainward played at on the daf and her down? They dearer this leaf\n",
            "Where it come, prest dosed.\n",
            "Hew 'Vle, for me haven's been Hed windows le like.\n",
            "The hearth's look stood bears with bell could them.\n",
            "You help every heaven overed for I saw yone\n",
            "I shone from the sust. Heling to was is, or flieve dipply farmed\n",
            "As more slipted fiended on stort.\n",
            "\n",
            "Thy is owainted with the grown sh\n"
          ]
        }
      ]
    }
  ]
}