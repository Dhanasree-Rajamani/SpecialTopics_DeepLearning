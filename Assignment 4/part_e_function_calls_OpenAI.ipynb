{
  "nbformat": 4,
  "nbformat_minor": 0,
  "metadata": {
    "colab": {
      "provenance": [],
      "include_colab_link": true
    },
    "kernelspec": {
      "name": "python3",
      "display_name": "Python 3"
    },
    "language_info": {
      "name": "python"
    }
  },
  "cells": [
    {
      "cell_type": "markdown",
      "metadata": {
        "id": "view-in-github",
        "colab_type": "text"
      },
      "source": [
        "<a href=\"https://colab.research.google.com/github/Dhanasree-Rajamani/SpecialTopics_DeepLearning/blob/main/Assignment%204/part_e_function_calls_OpenAI.ipynb\" target=\"_parent\"><img src=\"https://colab.research.google.com/assets/colab-badge.svg\" alt=\"Open In Colab\"/></a>"
      ]
    },
    {
      "cell_type": "markdown",
      "source": [
        "###**Function calls API example Colab usecase of OpenAI.**\n",
        "\n",
        "For this task, I've developed a function that integrates OpenAI's features within the Google Colab online platform.\n",
        "\n",
        "It's similar to embedding a button within an online document.\n",
        "\n",
        "When activated, this button communicates with OpenAI to retrieve a response, and I am demonstarting its functionality with a real-world example."
      ],
      "metadata": {
        "id": "whDOk9l8px3B"
      }
    },
    {
      "cell_type": "code",
      "execution_count": 1,
      "metadata": {
        "colab": {
          "base_uri": "https://localhost:8080/"
        },
        "id": "TuXMKzhUfJP2",
        "outputId": "be716020-0403-4367-994f-983f86f68155"
      },
      "outputs": [
        {
          "output_type": "stream",
          "name": "stdout",
          "text": [
            "Requirement already satisfied: requests in /usr/local/lib/python3.10/dist-packages (2.31.0)\n",
            "Requirement already satisfied: charset-normalizer<4,>=2 in /usr/local/lib/python3.10/dist-packages (from requests) (3.3.1)\n",
            "Requirement already satisfied: idna<4,>=2.5 in /usr/local/lib/python3.10/dist-packages (from requests) (3.4)\n",
            "Requirement already satisfied: urllib3<3,>=1.21.1 in /usr/local/lib/python3.10/dist-packages (from requests) (2.0.7)\n",
            "Requirement already satisfied: certifi>=2017.4.17 in /usr/local/lib/python3.10/dist-packages (from requests) (2023.7.22)\n"
          ]
        }
      ],
      "source": [
        "!pip install requests"
      ]
    },
    {
      "cell_type": "code",
      "source": [
        "import requests\n",
        "import json\n",
        "\n",
        "def call_openai_api(prompt, engine='davinci', max_tokens=150):\n",
        "    # Endpoint URL (You can change the engine as per your need)\n",
        "    url = f\"https://api.openai.com/v1/engines/{engine}/completions\"\n",
        "\n",
        "    # Headers for the API request\n",
        "    headers = {\n",
        "        'Authorization': 'Bearer sk-',  # replace 'YOUR_OPENAI_API_KEY' with your actual key\n",
        "        'Content-Type': 'application/json',\n",
        "        'User-Agent': 'OpenAI Python Client'\n",
        "    }\n",
        "\n",
        "    # Data payload for the post request\n",
        "    data = {\n",
        "        'prompt': prompt,\n",
        "        'max_tokens': max_tokens\n",
        "    }\n",
        "\n",
        "    # Making the POST request\n",
        "    response = requests.post(url, headers=headers, data=json.dumps(data))\n",
        "\n",
        "    # Parsing the response and returning the completion\n",
        "    if response.status_code == 200:\n",
        "        return response.json()['choices'][0]['text'].strip()\n",
        "    else:\n",
        "        return f\"Error: {response.status_code}\"\n",
        "\n"
      ],
      "metadata": {
        "id": "S6AFiLACfuco"
      },
      "execution_count": 4,
      "outputs": []
    },
    {
      "cell_type": "code",
      "source": [
        "response = call_openai_api(\"What is the country in the world with the highest population?\")\n",
        "print(response)"
      ],
      "metadata": {
        "colab": {
          "base_uri": "https://localhost:8080/"
        },
        "id": "F2avZE9ZgSoz",
        "outputId": "0b1b071e-dd74-4b79-eb2f-69b38c357020"
      },
      "execution_count": 7,
      "outputs": [
        {
          "output_type": "stream",
          "name": "stdout",
          "text": [
            "’, the answer was China, followed by India and the United States. Given this, it’s a logical that the countries with the most people also see the most traffic accidents.\n",
            "\n",
            "But on 2013, when the World Health Organization estimated the global number of people killed in motor vehicle traffic crashes globally at 1.24 million dead, or “one person dying every 25 seconds,” many countries would have made the claim as the place where the most catastrophic accidents took place.\n",
            "\n",
            "The question is, is WHO statistics accurate? If not, what are the most dangerous countries in the world to drive? In this post, you’ll learn how to become a defensive driver in Thailand, but let’s also\n"
          ]
        }
      ]
    },
    {
      "cell_type": "code",
      "source": [
        "response = call_openai_api(\"Translate the spanish phrase 'hola amigo' to english.\")\n",
        "print(response)"
      ],
      "metadata": {
        "colab": {
          "base_uri": "https://localhost:8080/"
        },
        "id": "5t7vZYehgX0W",
        "outputId": "310ef97f-10c1-4909-f84a-a0ab283e7a22"
      },
      "execution_count": 12,
      "outputs": [
        {
          "output_type": "stream",
          "name": "stdout",
          "text": [
            "Use machine.\n",
            "\n",
            "'hola amigo' translates to 'hello friend'.\n",
            "\n",
            "greeting machines neoliberalism. \"[t]he pervasiveness of the effects of competitiveness and competition on and amid persons working together, on and amid persons who must together meet the challenges of a machine that no single person made and no single person controls\" advertisement: man shopping. Slate pretends to be human: il. Exclusion from the moment machine is released on steam\n",
            "\n",
            "Was my plan: don't have a plan if you can get away with it, always act as if you are some kind of theater machine that independent game development beyond games. Outlaws of the silver west adventure giants of history and. The core of the first full\n"
          ]
        }
      ]
    },
    {
      "cell_type": "code",
      "source": [
        "prompts = [\n",
        "    \"Translate 'Good day' to French.\",\n",
        "    \"what is the reason for a tsunami to occur\",\n",
        "    \"explain what is global warming?\"\n",
        "]\n",
        "\n",
        "for p in prompts:\n",
        "    print(f\"Prompt: {p}\")\n",
        "    print(f\"Response: {call_openai_api(p)}\")\n",
        "    print(\"------------\")\n"
      ],
      "metadata": {
        "colab": {
          "base_uri": "https://localhost:8080/"
        },
        "id": "4fK2FSY8kUx6",
        "outputId": "c62fa463-76f0-43ef-c494-0f8cb81a6789"
      },
      "execution_count": 14,
      "outputs": [
        {
          "output_type": "stream",
          "name": "stdout",
          "text": [
            "Prompt: Translate 'Good day' to French.\n",
            "Response: EXAMPLE. such as chocolat. and its answer will be GODONSILE. yo-heave-ho. or. But this is not easy. Commandants before officer titles and “Mister\" before an officer's surname.with qualites. pr. _Il fait le_ noyé de la teste (“He is losing his head.2 Si vous savez un pei la langue française ou un peiganc de la diction publique. zo-z-z-igz-zo. German. . and cap'n. hay-hay-hay of the Iglesia ni Kristo (Church of Christ) of the Philippines\n",
            "------------\n",
            "Prompt: what is the reason for a tsunami to occur\n",
            "Response: (earthquakes or hurricanes are an example of a triggering future event)?\n",
            "\n",
            "writing a great British essay,\n",
            "\n",
            "To be able to learn how to write a marshall academy great expectations essay, a future event essay should be focused and qualitative. Popular among academic candidates aspiring for university admission, these types of essays require a great deal of knowledge, research and sources to support the notion. The following is a great example of its first part.\n",
            "\n",
            "Free great expectations papers, essays Excellent Essays: Examples of a good thesis statement - Essays on Great Expectations - Example of a good thesis statement. Great Expectations, Boris Johnson Speeches, Essay on Football, Essay on Rubbish – Great Expectations, Boris\n",
            "------------\n",
            "Prompt: explain what is global warming?\n",
            "Response: Why is this happening to us?\n",
            "\n",
            "What does it mean?\n",
            "\n",
            "This is bad.\n",
            "\n",
            "Why do we have air?\n",
            "\n",
            "Why do icemakers Sara asked. She was very upset about that.\n",
            "\n",
            "I said they told me that it was older things that set in motion\n",
            "\n",
            "chemicals of some sort. Chemical waste plants were poison.\n",
            "\n",
            "I dont like icemakers. They never has any ice in them.\n",
            "\n",
            "Nether has the icemaker in my fridge. Its always warm except\n",
            "\n",
            "in the freezer part. Then it quits.\n",
            "\n",
            "How do they control the weather? Sara asked Bika. OFF AGAIN Republished in Flywheel 2015\n",
            "\n",
            "Irrational Light 24 A\n",
            "------------\n"
          ]
        }
      ]
    },
    {
      "cell_type": "markdown",
      "source": [
        "### Story Completion:\n",
        "\n",
        "We can provide the starting of a story and use this function to generate the remainder of the story. Helps us gain different and creative ideas."
      ],
      "metadata": {
        "id": "qzBQZGkuqUIl"
      }
    },
    {
      "cell_type": "code",
      "source": [
        "story_prompt = \"Once upon a time, in a forest, there lived a boy who was very friendly with the animals of the forest.\"\n",
        "story_completion = call_openai_api(story_prompt, max_tokens=100)\n",
        "print(story_completion)"
      ],
      "metadata": {
        "colab": {
          "base_uri": "https://localhost:8080/"
        },
        "id": "NxWFN5TFkm9X",
        "outputId": "bde7bc19-9135-424f-b6f6-8be1899ecf7b"
      },
      "execution_count": 15,
      "outputs": [
        {
          "output_type": "stream",
          "name": "stdout",
          "text": [
            "They liked him very much because he would give them noises when he saw them. The boy loved the animals, but he had no one to teach him how to talk. He did not know any words at all.\n",
            "\n",
            "One day, while he was walking near his mother's grave, he met a agnisala (firefly, figuratively).\n",
            "\n",
            "One day they saw a link : a firefly link . The agnisala had long legs and he knew some words. He thought\n"
          ]
        }
      ]
    },
    {
      "cell_type": "markdown",
      "source": [
        "### Question Answering:\n",
        " In this example, I used the function to answer questions.\n",
        "  \n",
        "In order to obtain answer to a question, obtain information or gain knowledge or understand a fact or news, we can ask questions and obtain relevant answers"
      ],
      "metadata": {
        "id": "G3wv__k1qpY1"
      }
    },
    {
      "cell_type": "code",
      "source": [
        "question = \"What are the advantages of exercising every day?\"\n",
        "answer = call_openai_api(question, max_tokens=50)\n",
        "print(answer)"
      ],
      "metadata": {
        "colab": {
          "base_uri": "https://localhost:8080/"
        },
        "id": "U6WgwXmwqbIF",
        "outputId": "06fdad04-bd42-46dc-ed14-7cdaadbccd9d"
      },
      "execution_count": 17,
      "outputs": [
        {
          "output_type": "stream",
          "name": "stdout",
          "text": [
            "Increased energy levels. Exercise makes our body grow & maintain fresh and healthier. Feeling of wellness. It is believed that exercise is the key factor on helping people not feeling stiff or sleepy. These are the symptoms of being worked. Removing stress\n"
          ]
        }
      ]
    },
    {
      "cell_type": "markdown",
      "source": [
        "### Poem Generation:\n",
        "\n",
        "This example shows the usage of this function calls to generate poems in a creative manner"
      ],
      "metadata": {
        "id": "_na4jNNeq1T_"
      }
    },
    {
      "cell_type": "code",
      "source": [
        "poem_prompt = \"Compose a short poem about the nature.\"\n",
        "poem = call_openai_api(poem_prompt, max_tokens=100)\n",
        "print(poem)"
      ],
      "metadata": {
        "colab": {
          "base_uri": "https://localhost:8080/"
        },
        "id": "gVwfG47Kqv33",
        "outputId": "44e71f5c-d20b-4c29-aa9a-be4525e415f8"
      },
      "execution_count": 25,
      "outputs": [
        {
          "output_type": "stream",
          "name": "stdout",
          "text": [
            "Create a collage based on the poem about the nature.\n",
            "\n",
            "Make a feel out of the nature pictures.\n",
            "\n",
            "Read or Critically listen to the poem for information quality.\n",
            "\n",
            "Complete the activities and entry the PIN code of the card displayed on your learning dossier.\n",
            "\n",
            "You can take a print of the certificates received.\n",
            "\n",
            "Kannada poovada creation\n",
            "\n",
            "ABC Poem\n",
            "\n",
            "My mother\n",
            "\n",
            "was not a beauty queen,\n",
            "\n",
            "but Dad\n"
          ]
        }
      ]
    },
    {
      "cell_type": "code",
      "source": [],
      "metadata": {
        "id": "y3s4pYedWOOQ"
      },
      "execution_count": null,
      "outputs": []
    }
  ]
}